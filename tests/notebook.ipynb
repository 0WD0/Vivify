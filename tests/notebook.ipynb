{
 "cells": [
  {
   "cell_type": "markdown",
   "id": "489c2a9d-d4e1-425a-ba8b-09745f3cdf75",
   "metadata": {},
   "source": [
    "# Vivify testing notebook\n",
    "\n",
    "This notebook can be used for testing the rendering in Vivify"
   ]
  },
  {
   "cell_type": "markdown",
   "id": "f3f5ad23-2f01-466b-98ab-732b54638774",
   "metadata": {},
   "source": [
    "## Markdown\n",
    "\n",
    "We don't need to test this extensively since we just use the same Markdown parsing as for Markdown files.\n",
    "\n",
    "$$\n",
    "N(x; \\mu, \\sigma^2) = \\frac{1}{\\sqrt{2 \\pi \\sigma^2}} \\cdot \\exp\\left(-\\frac{\\left(x - \\mu\\right)^2}{\\sigma^2}\\right)\n",
    "$$\n",
    "\n",
    "Checking if KaTeX works is good anyways."
   ]
  },
  {
   "cell_type": "markdown",
   "id": "1d822439-f8fe-4387-b40f-2de0a741d71e",
   "metadata": {},
   "source": [
    "## Output types"
   ]
  },
  {
   "cell_type": "code",
   "execution_count": 1,
   "id": "5b68e391-df39-4254-9939-d9039496d407",
   "metadata": {},
   "outputs": [
    {
     "name": "stdout",
     "output_type": "stream",
     "text": [
      "We can test ANSI by printing some text with \u001b[31mred\u001b[0m parts\n"
     ]
    }
   ],
   "source": [
    "print('We can test ANSI by printing some text with \\033[31mred\\033[0m parts')"
   ]
  },
  {
   "cell_type": "code",
   "execution_count": null,
   "id": "a5598349-aafa-4527-bba5-e6de001e3121",
   "metadata": {},
   "outputs": [],
   "source": []
  }
 ],
 "metadata": {
  "kernelspec": {
   "display_name": "Python 3 (ipykernel)",
   "language": "python",
   "name": "python3"
  },
  "language_info": {
   "codemirror_mode": {
    "name": "ipython",
    "version": 3
   },
   "file_extension": ".py",
   "mimetype": "text/x-python",
   "name": "python",
   "nbconvert_exporter": "python",
   "pygments_lexer": "ipython3",
   "version": "3.12.2"
  }
 },
 "nbformat": 4,
 "nbformat_minor": 5
}
