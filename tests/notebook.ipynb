{
 "cells": [
  {
   "cell_type": "markdown",
   "id": "489c2a9d-d4e1-425a-ba8b-09745f3cdf75",
   "metadata": {},
   "source": [
    "# Vivify testing notebook\n",
    "\n",
    "This notebook can be used for testing the rendering in Vivify"
   ]
  },
  {
   "cell_type": "markdown",
   "id": "f3f5ad23-2f01-466b-98ab-732b54638774",
   "metadata": {},
   "source": [
    "## Markdown\n",
    "\n",
    "We don't need to test this extensively since we just use the same Markdown parsing as for Markdown files.\n",
    "\n",
    "$$\n",
    "N(x; \\mu, \\sigma^2) = \\frac{1}{\\sqrt{2 \\pi \\sigma^2}} \\cdot \\exp\\left(-\\frac{\\left(x - \\mu\\right)^2}{\\sigma^2}\\right)\n",
    "$$\n",
    "\n",
    "Checking if KaTeX works is good anyways."
   ]
  },
  {
   "cell_type": "markdown",
   "id": "1d822439-f8fe-4387-b40f-2de0a741d71e",
   "metadata": {},
   "source": [
    "## Output types"
   ]
  },
  {
   "cell_type": "markdown",
   "id": "a6ed8bf7-20b4-462a-bfd7-a64e004fe146",
   "metadata": {},
   "source": [
    "### Streams & ANSI"
   ]
  },
  {
   "cell_type": "code",
   "execution_count": 1,
   "id": "5b68e391-df39-4254-9939-d9039496d407",
   "metadata": {},
   "outputs": [
    {
     "name": "stdout",
     "output_type": "stream",
     "text": [
      "We can test stream outputs & ANSI by printing some text with \u001b[31mred\u001b[0m parts\n"
     ]
    }
   ],
   "source": [
    "print('We can test stream outputs & ANSI by printing some text with \\033[31mred\\033[0m parts')"
   ]
  },
  {
   "cell_type": "markdown",
   "id": "35e809e0-d4b6-4a82-9c14-32221f285b16",
   "metadata": {},
   "source": [
    "### Errors"
   ]
  },
  {
   "cell_type": "code",
   "execution_count": 2,
   "id": "a5598349-aafa-4527-bba5-e6de001e3121",
   "metadata": {},
   "outputs": [
    {
     "ename": "Exception",
     "evalue": "Hehe",
     "output_type": "error",
     "traceback": [
      "\u001b[0;31m---------------------------------------------------------------------------\u001b[0m",
      "\u001b[0;31mException\u001b[0m                                 Traceback (most recent call last)",
      "Cell \u001b[0;32mIn[2], line 7\u001b[0m\n\u001b[1;32m      4\u001b[0m \u001b[38;5;28;01mdef\u001b[39;00m \u001b[38;5;21msome_other_fun\u001b[39m():\n\u001b[1;32m      5\u001b[0m     some_fun()\n\u001b[0;32m----> 7\u001b[0m \u001b[43msome_other_fun\u001b[49m\u001b[43m(\u001b[49m\u001b[43m)\u001b[49m\n",
      "Cell \u001b[0;32mIn[2], line 5\u001b[0m, in \u001b[0;36msome_other_fun\u001b[0;34m()\u001b[0m\n\u001b[1;32m      4\u001b[0m \u001b[38;5;28;01mdef\u001b[39;00m \u001b[38;5;21msome_other_fun\u001b[39m():\n\u001b[0;32m----> 5\u001b[0m     \u001b[43msome_fun\u001b[49m\u001b[43m(\u001b[49m\u001b[43m)\u001b[49m\n",
      "Cell \u001b[0;32mIn[2], line 2\u001b[0m, in \u001b[0;36msome_fun\u001b[0;34m()\u001b[0m\n\u001b[1;32m      1\u001b[0m \u001b[38;5;28;01mdef\u001b[39;00m \u001b[38;5;21msome_fun\u001b[39m():\n\u001b[0;32m----> 2\u001b[0m     \u001b[38;5;28;01mraise\u001b[39;00m \u001b[38;5;167;01mException\u001b[39;00m(\u001b[38;5;124m'\u001b[39m\u001b[38;5;124mHehe\u001b[39m\u001b[38;5;124m'\u001b[39m)\n",
      "\u001b[0;31mException\u001b[0m: Hehe"
     ]
    }
   ],
   "source": [
    "def some_fun():\n",
    "    raise Exception('Hehe')\n",
    "\n",
    "def some_other_fun():\n",
    "    some_fun()\n",
    "\n",
    "some_other_fun()"
   ]
  },
  {
   "cell_type": "code",
   "execution_count": null,
   "id": "35411609-29dd-41fd-875b-c00bb8dbf99b",
   "metadata": {},
   "outputs": [],
   "source": []
  }
 ],
 "metadata": {
  "kernelspec": {
   "display_name": "Python 3 (ipykernel)",
   "language": "python",
   "name": "python3"
  },
  "language_info": {
   "codemirror_mode": {
    "name": "ipython",
    "version": 3
   },
   "file_extension": ".py",
   "mimetype": "text/x-python",
   "name": "python",
   "nbconvert_exporter": "python",
   "pygments_lexer": "ipython3",
   "version": "3.12.2"
  }
 },
 "nbformat": 4,
 "nbformat_minor": 5
}
