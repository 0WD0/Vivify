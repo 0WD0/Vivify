{
 "cells": [
  {
   "cell_type": "markdown",
   "id": "489c2a9d-d4e1-425a-ba8b-09745f3cdf75",
   "metadata": {},
   "source": [
    "# Vivify testing notebook\n",
    "\n",
    "This notebook can be used for testing the rendering in Vivify"
   ]
  },
  {
   "cell_type": "markdown",
   "id": "f3f5ad23-2f01-466b-98ab-732b54638774",
   "metadata": {},
   "source": [
    "## Markdown\n",
    "\n",
    "We don't need to test this extensively since we just use the same Markdown parsing as for Markdown files.\n",
    "\n",
    "$$\n",
    "N(x; \\mu, \\sigma^2) = \\frac{1}{\\sqrt{2 \\pi \\sigma^2}} \\cdot \\exp\\left(-\\frac{\\left(x - \\mu\\right)^2}{\\sigma^2}\\right)\n",
    "$$\n",
    "\n",
    "Checking if KaTeX works is good anyways."
   ]
  },
  {
   "cell_type": "markdown",
   "id": "1d822439-f8fe-4387-b40f-2de0a741d71e",
   "metadata": {},
   "source": [
    "## Output types"
   ]
  },
  {
   "cell_type": "markdown",
   "id": "a6ed8bf7-20b4-462a-bfd7-a64e004fe146",
   "metadata": {},
   "source": [
    "### Streams & ANSI"
   ]
  },
  {
   "cell_type": "code",
   "execution_count": 1,
   "id": "5b68e391-df39-4254-9939-d9039496d407",
   "metadata": {},
   "outputs": [
    {
     "name": "stdout",
     "output_type": "stream",
     "text": [
      "We can test stream outputs & ANSI by printing some text with \u001b[31mred\u001b[0m parts\n"
     ]
    }
   ],
   "source": [
    "print('We can test stream outputs & ANSI by printing some text with \\033[31mred\\033[0m parts')"
   ]
  },
  {
   "cell_type": "code",
   "execution_count": 6,
   "id": "1ddd66b4-e45f-466b-a713-dc5eb1bc50c1",
   "metadata": {},
   "outputs": [
    {
     "name": "stdout",
     "output_type": "stream",
     "text": [
      "We also have to be careful escaping HTML like <span>hehe</span>\n"
     ]
    }
   ],
   "source": [
    "print('We also have to be careful escaping HTML like <span>hehe</span>')"
   ]
  },
  {
   "cell_type": "markdown",
   "id": "35e809e0-d4b6-4a82-9c14-32221f285b16",
   "metadata": {},
   "source": [
    "### Errors"
   ]
  },
  {
   "cell_type": "code",
   "execution_count": 2,
   "id": "a5598349-aafa-4527-bba5-e6de001e3121",
   "metadata": {},
   "outputs": [
    {
     "ename": "Exception",
     "evalue": "Hehe",
     "output_type": "error",
     "traceback": [
      "\u001b[0;31m---------------------------------------------------------------------------\u001b[0m",
      "\u001b[0;31mException\u001b[0m                                 Traceback (most recent call last)",
      "Cell \u001b[0;32mIn[2], line 7\u001b[0m\n\u001b[1;32m      4\u001b[0m \u001b[38;5;28;01mdef\u001b[39;00m \u001b[38;5;21msome_other_fun\u001b[39m():\n\u001b[1;32m      5\u001b[0m     some_fun()\n\u001b[0;32m----> 7\u001b[0m \u001b[43msome_other_fun\u001b[49m\u001b[43m(\u001b[49m\u001b[43m)\u001b[49m\n",
      "Cell \u001b[0;32mIn[2], line 5\u001b[0m, in \u001b[0;36msome_other_fun\u001b[0;34m()\u001b[0m\n\u001b[1;32m      4\u001b[0m \u001b[38;5;28;01mdef\u001b[39;00m \u001b[38;5;21msome_other_fun\u001b[39m():\n\u001b[0;32m----> 5\u001b[0m     \u001b[43msome_fun\u001b[49m\u001b[43m(\u001b[49m\u001b[43m)\u001b[49m\n",
      "Cell \u001b[0;32mIn[2], line 2\u001b[0m, in \u001b[0;36msome_fun\u001b[0;34m()\u001b[0m\n\u001b[1;32m      1\u001b[0m \u001b[38;5;28;01mdef\u001b[39;00m \u001b[38;5;21msome_fun\u001b[39m():\n\u001b[0;32m----> 2\u001b[0m     \u001b[38;5;28;01mraise\u001b[39;00m \u001b[38;5;167;01mException\u001b[39;00m(\u001b[38;5;124m'\u001b[39m\u001b[38;5;124mHehe\u001b[39m\u001b[38;5;124m'\u001b[39m)\n",
      "\u001b[0;31mException\u001b[0m: Hehe"
     ]
    }
   ],
   "source": [
    "def some_fun():\n",
    "    raise Exception('Hehe')\n",
    "\n",
    "def some_other_fun():\n",
    "    some_fun()\n",
    "\n",
    "some_other_fun()"
   ]
  },
  {
   "cell_type": "markdown",
   "id": "8a921c4a-266d-4938-9874-e1a9043e728f",
   "metadata": {},
   "source": [
    "### HTML & images"
   ]
  },
  {
   "cell_type": "code",
   "execution_count": 3,
   "id": "35411609-29dd-41fd-875b-c00bb8dbf99b",
   "metadata": {},
   "outputs": [
    {
     "data": {
      "text/html": [
       "<div>\n",
       "<style scoped>\n",
       "    .dataframe tbody tr th:only-of-type {\n",
       "        vertical-align: middle;\n",
       "    }\n",
       "\n",
       "    .dataframe tbody tr th {\n",
       "        vertical-align: top;\n",
       "    }\n",
       "\n",
       "    .dataframe thead th {\n",
       "        text-align: right;\n",
       "    }\n",
       "</style>\n",
       "<table border=\"1\" class=\"dataframe\">\n",
       "  <thead>\n",
       "    <tr style=\"text-align: right;\">\n",
       "      <th></th>\n",
       "      <th>a</th>\n",
       "      <th>b</th>\n",
       "    </tr>\n",
       "  </thead>\n",
       "  <tbody>\n",
       "    <tr>\n",
       "      <th>0</th>\n",
       "      <td>1</td>\n",
       "      <td>10</td>\n",
       "    </tr>\n",
       "    <tr>\n",
       "      <th>1</th>\n",
       "      <td>2</td>\n",
       "      <td>20</td>\n",
       "    </tr>\n",
       "    <tr>\n",
       "      <th>2</th>\n",
       "      <td>3</td>\n",
       "      <td>30</td>\n",
       "    </tr>\n",
       "  </tbody>\n",
       "</table>\n",
       "</div>"
      ],
      "text/plain": [
       "   a   b\n",
       "0  1  10\n",
       "1  2  20\n",
       "2  3  30"
      ]
     },
     "execution_count": 3,
     "metadata": {},
     "output_type": "execute_result"
    }
   ],
   "source": [
    "import pandas as pd\n",
    "df = pd.DataFrame({ 'a': [1, 2, 3], 'b': [10, 20, 30] })\n",
    "df"
   ]
  },
  {
   "cell_type": "code",
   "execution_count": 4,
   "id": "f7914d4f-2f2b-4a56-99d3-2b1252380b6a",
   "metadata": {},
   "outputs": [
    {
     "data": {
      "text/plain": [
       "<Axes: >"
      ]
     },
     "execution_count": 4,
     "metadata": {},
     "output_type": "execute_result"
    },
    {
     "data": {
      "image/png": "[encoded data removed]",
      "text/plain": [
       "<Figure size 640x480 with 1 Axes>"
      ]
     },
     "metadata": {},
     "output_type": "display_data"
    }
   ],
   "source": [
    "df.plot()"
   ]
  },
  {
   "cell_type": "code",
   "execution_count": null,
   "id": "b334dcb5-3794-4bb1-8d3b-0fac6f5c471f",
   "metadata": {},
   "outputs": [],
   "source": []
  }
 ],
 "metadata": {
  "kernelspec": {
   "display_name": "Python 3 (ipykernel)",
   "language": "python",
   "name": "python3"
  },
  "language_info": {
   "codemirror_mode": {
    "name": "ipython",
    "version": 3
   },
   "file_extension": ".py",
   "mimetype": "text/x-python",
   "name": "python",
   "nbconvert_exporter": "python",
   "pygments_lexer": "ipython3",
   "version": "3.12.2"
  }
 },
 "nbformat": 4,
 "nbformat_minor": 5
}
